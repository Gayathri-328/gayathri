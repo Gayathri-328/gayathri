{
  "nbformat": 4,
  "nbformat_minor": 0,
  "metadata": {
    "colab": {
      "provenance": [],
      "authorship_tag": "ABX9TyNq9ZFUAXpTU4XAqq2cDL3n",
      "include_colab_link": true
    },
    "kernelspec": {
      "name": "python3",
      "display_name": "Python 3"
    },
    "language_info": {
      "name": "python"
    }
  },
  "cells": [
    {
      "cell_type": "markdown",
      "metadata": {
        "id": "view-in-github",
        "colab_type": "text"
      },
      "source": [
        "<a href=\"https://colab.research.google.com/github/Gayathri-328/gayathri/blob/main/employee.ipynb\" target=\"_parent\"><img src=\"https://colab.research.google.com/assets/colab-badge.svg\" alt=\"Open In Colab\"/></a>"
      ]
    },
    {
      "cell_type": "code",
      "execution_count": null,
      "metadata": {
        "id": "6JtQH-Ny30Qu"
      },
      "outputs": [],
      "source": [
        "import pandas as pd"
      ]
    },
    {
      "cell_type": "code",
      "source": [
        "from google.colab import drive\n",
        "drive.mount('/content/drive')"
      ],
      "metadata": {
        "colab": {
          "base_uri": "https://localhost:8080/"
        },
        "id": "5poVj1YK4GqO",
        "outputId": "5170553f-b0de-46ae-f3a8-d00822029a48"
      },
      "execution_count": null,
      "outputs": [
        {
          "output_type": "stream",
          "name": "stdout",
          "text": [
            "Mounted at /content/drive\n"
          ]
        }
      ]
    },
    {
      "cell_type": "code",
      "source": [
        "import pandas as pd\n",
        "\n",
        "df = pd.read_excel( '/content/drive/MyDrive/Employee_Details.xlsx'  )\n",
        "df.head()\n",
        "print(df)"
      ],
      "metadata": {
        "colab": {
          "base_uri": "https://localhost:8080/"
        },
        "id": "agQcvLSy9U-V",
        "outputId": "9550e74b-b843-4f4e-ca7f-2e667dcd403d"
      },
      "execution_count": null,
      "outputs": [
        {
          "output_type": "stream",
          "name": "stdout",
          "text": [
            "  Employee ID           Name          Place  Age    Salary     Qualification  \\\n",
            "0      EMP001  Alice Johnson       New York   29   $75,000        Bachelor's   \n",
            "1      EMP002      Bob Smith        Chicago   34   $85,000          Master's   \n",
            "2      EMP003      Carol Lee  San Francisco   28   $95,000               PhD   \n",
            "3      EMP004      David Kim        Seattle   40  $120,000        Bachelor's   \n",
            "4      EMP005      Eva Brown         Austin   31   $70,000          Master's   \n",
            "5      EMP006    Frank Green         Boston   45   $65,000  Associate Degree   \n",
            "6      EMP007    Grace White         Denver   27   $78,000        Bachelor's   \n",
            "7      EMP008    Harry Black          Miami   37   $90,000          Master's   \n",
            "8      EMP009    Irene Scott         Dallas   32  $110,000               MBA   \n",
            "9      EMP010    Jack Harris        Phoenix   25   $60,000        Bachelor's   \n",
            "\n",
            "            Position  \n",
            "0  Software Engineer  \n",
            "1       Data Analyst  \n",
            "2   Machine Learning  \n",
            "3    Project Manager  \n",
            "4        UX Designer  \n",
            "5  Technical Support  \n",
            "6     Marketing Lead  \n",
            "7         HR Manager  \n",
            "8   Business Analyst  \n",
            "9   Junior Developer  \n"
          ]
        }
      ]
    },
    {
      "cell_type": "code",
      "source": [
        "print(\"first few rows\")\n",
        "print(df.head())"
      ],
      "metadata": {
        "colab": {
          "base_uri": "https://localhost:8080/"
        },
        "id": "OVR2QMoiBTg3",
        "outputId": "ac9ce770-a0bc-4a82-a5ee-c6df0be128ec"
      },
      "execution_count": null,
      "outputs": [
        {
          "output_type": "stream",
          "name": "stdout",
          "text": [
            "first few rows\n",
            "  Employee ID           Name          Place  Age    Salary Qualification  \\\n",
            "0      EMP001  Alice Johnson       New York   29   $75,000    Bachelor's   \n",
            "1      EMP002      Bob Smith        Chicago   34   $85,000      Master's   \n",
            "2      EMP003      Carol Lee  San Francisco   28   $95,000           PhD   \n",
            "3      EMP004      David Kim        Seattle   40  $120,000    Bachelor's   \n",
            "4      EMP005      Eva Brown         Austin   31   $70,000      Master's   \n",
            "\n",
            "            Position  \n",
            "0  Software Engineer  \n",
            "1       Data Analyst  \n",
            "2   Machine Learning  \n",
            "3    Project Manager  \n",
            "4        UX Designer  \n"
          ]
        }
      ]
    },
    {
      "cell_type": "code",
      "source": [
        "print(\"\\n summary statistics:\")\n",
        "print(df.describe())\n",
        "\n",
        "\n"
      ],
      "metadata": {
        "colab": {
          "base_uri": "https://localhost:8080/"
        },
        "id": "2JRD7JnLCvxd",
        "outputId": "8b17a397-6b81-4333-9e12-dfee1bf76626"
      },
      "execution_count": null,
      "outputs": [
        {
          "output_type": "stream",
          "name": "stdout",
          "text": [
            "\n",
            " summary statistics:\n",
            "             Age\n",
            "count  10.000000\n",
            "mean   32.800000\n",
            "std     6.285786\n",
            "min    25.000000\n",
            "25%    28.250000\n",
            "50%    31.500000\n",
            "75%    36.250000\n",
            "max    45.000000\n"
          ]
        }
      ]
    },
    {
      "cell_type": "code",
      "source": [
        "filtered_data=df[df['Age']>30]\n",
        "print(\"\\n filtered data(Age>30):\")\n",
        "print(filtered_data)"
      ],
      "metadata": {
        "colab": {
          "base_uri": "https://localhost:8080/"
        },
        "id": "442pVBQcDn5_",
        "outputId": "7511acbe-a209-4368-fb58-f5bd06447f15"
      },
      "execution_count": null,
      "outputs": [
        {
          "output_type": "stream",
          "name": "stdout",
          "text": [
            "\n",
            " filtered data(Age>30):\n",
            "  Employee ID         Name    Place  Age    Salary     Qualification  \\\n",
            "1      EMP002    Bob Smith  Chicago   34   $85,000          Master's   \n",
            "3      EMP004    David Kim  Seattle   40  $120,000        Bachelor's   \n",
            "4      EMP005    Eva Brown   Austin   31   $70,000          Master's   \n",
            "5      EMP006  Frank Green   Boston   45   $65,000  Associate Degree   \n",
            "7      EMP008  Harry Black    Miami   37   $90,000          Master's   \n",
            "8      EMP009  Irene Scott   Dallas   32  $110,000               MBA   \n",
            "\n",
            "            Position  \n",
            "1       Data Analyst  \n",
            "3    Project Manager  \n",
            "4        UX Designer  \n",
            "5  Technical Support  \n",
            "7         HR Manager  \n",
            "8   Business Analyst  \n"
          ]
        }
      ]
    },
    {
      "cell_type": "code",
      "source": [],
      "metadata": {
        "id": "0qDUsUVlGlj1"
      },
      "execution_count": null,
      "outputs": []
    },
    {
      "cell_type": "code",
      "source": [
        "filtered_data = df[df[\"Age\"] > 30]\n",
        "print(filtered_data)"
      ],
      "metadata": {
        "colab": {
          "base_uri": "https://localhost:8080/"
        },
        "id": "IricikUHFbJ0",
        "outputId": "2b3ef326-bf4e-4511-96e0-cc356f412c7a"
      },
      "execution_count": null,
      "outputs": [
        {
          "output_type": "stream",
          "name": "stdout",
          "text": [
            "  Employee ID         Name    Place  Age    Salary     Qualification  \\\n",
            "1      EMP002    Bob Smith  Chicago   34   $85,000          Master's   \n",
            "3      EMP004    David Kim  Seattle   40  $120,000        Bachelor's   \n",
            "4      EMP005    Eva Brown   Austin   31   $70,000          Master's   \n",
            "5      EMP006  Frank Green   Boston   45   $65,000  Associate Degree   \n",
            "7      EMP008  Harry Black    Miami   37   $90,000          Master's   \n",
            "8      EMP009  Irene Scott   Dallas   32  $110,000               MBA   \n",
            "\n",
            "            Position  \n",
            "1       Data Analyst  \n",
            "3    Project Manager  \n",
            "4        UX Designer  \n",
            "5  Technical Support  \n",
            "7         HR Manager  \n",
            "8   Business Analyst  \n"
          ]
        }
      ]
    },
    {
      "cell_type": "code",
      "source": [
        "Sorted_data=df.sort_values(by='Salary',ascending=False)\n",
        "print(\"\\n sorted data(by Salary):\")\n",
        "print(Sorted_data)"
      ],
      "metadata": {
        "colab": {
          "base_uri": "https://localhost:8080/"
        },
        "id": "S_5OVzbkGoDq",
        "outputId": "fe21da58-e43f-4e93-d2cf-d6c4e3692f76"
      },
      "execution_count": null,
      "outputs": [
        {
          "output_type": "stream",
          "name": "stdout",
          "text": [
            "\n",
            " sorted data(by Salary):\n",
            "  Employee ID           Name          Place  Age    Salary     Qualification  \\\n",
            "2      EMP003      Carol Lee  San Francisco   28   $95,000               PhD   \n",
            "7      EMP008    Harry Black          Miami   37   $90,000          Master's   \n",
            "1      EMP002      Bob Smith        Chicago   34   $85,000          Master's   \n",
            "6      EMP007    Grace White         Denver   27   $78,000        Bachelor's   \n",
            "0      EMP001  Alice Johnson       New York   29   $75,000        Bachelor's   \n",
            "4      EMP005      Eva Brown         Austin   31   $70,000          Master's   \n",
            "5      EMP006    Frank Green         Boston   45   $65,000  Associate Degree   \n",
            "9      EMP010    Jack Harris        Phoenix   25   $60,000        Bachelor's   \n",
            "3      EMP004      David Kim        Seattle   40  $120,000        Bachelor's   \n",
            "8      EMP009    Irene Scott         Dallas   32  $110,000               MBA   \n",
            "\n",
            "            Position  \n",
            "2   Machine Learning  \n",
            "7         HR Manager  \n",
            "1       Data Analyst  \n",
            "6     Marketing Lead  \n",
            "0  Software Engineer  \n",
            "4        UX Designer  \n",
            "5  Technical Support  \n",
            "9   Junior Developer  \n",
            "3    Project Manager  \n",
            "8   Business Analyst  \n"
          ]
        }
      ]
    },
    {
      "cell_type": "code",
      "source": [
        "df.to_excel('output.xlsx',index=False)\n",
        "print(\"\\n Data written to output.xlsx\")"
      ],
      "metadata": {
        "colab": {
          "base_uri": "https://localhost:8080/"
        },
        "id": "D6SAzZNJNmrD",
        "outputId": "8772e4e3-db1c-414c-e33c-532153073e5d"
      },
      "execution_count": null,
      "outputs": [
        {
          "output_type": "stream",
          "name": "stdout",
          "text": [
            "\n",
            " Data written to output.xlsx\n"
          ]
        }
      ]
    }
  ]
}